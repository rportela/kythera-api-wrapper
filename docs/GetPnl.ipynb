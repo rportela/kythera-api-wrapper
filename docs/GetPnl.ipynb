{
 "cells": [
  {
   "cell_type": "markdown",
   "id": "7b8c594f",
   "metadata": {},
   "source": [
    "# Getting the pnl using kdx\n",
    "\n",
    "In this example we will instantiate kdx and get pnl from it."
   ]
  },
  {
   "cell_type": "code",
   "execution_count": 1,
   "id": "008e965c",
   "metadata": {},
   "outputs": [
    {
     "ename": "TypeError",
     "evalue": "KytheraKdx.__init__() got an unexpected keyword argument 'x_api_key'",
     "output_type": "error",
     "traceback": [
      "\u001b[1;31m---------------------------------------------------------------------------\u001b[0m",
      "\u001b[1;31mTypeError\u001b[0m                                 Traceback (most recent call last)",
      "Cell \u001b[1;32mIn[1], line 3\u001b[0m\n\u001b[0;32m      1\u001b[0m \u001b[38;5;28;01mfrom\u001b[39;00m\u001b[38;5;250m \u001b[39m\u001b[38;5;21;01mkythera_kdx\u001b[39;00m\u001b[38;5;250m \u001b[39m\u001b[38;5;28;01mimport\u001b[39;00m KytheraKdx\n\u001b[1;32m----> 3\u001b[0m kdx \u001b[38;5;241m=\u001b[39m \u001b[43mKytheraKdx\u001b[49m\u001b[43m(\u001b[49m\u001b[43mx_api_key\u001b[49m\u001b[38;5;241;43m=\u001b[39;49m\u001b[38;5;124;43m\"\u001b[39;49m\u001b[38;5;124;43mZEAU-SDSH-R93B\u001b[39;49m\u001b[38;5;124;43m\"\u001b[39;49m\u001b[43m)\u001b[49m\n\u001b[0;32m      5\u001b[0m pnl \u001b[38;5;241m=\u001b[39m kdx\u001b[38;5;241m.\u001b[39mpnl\u001b[38;5;241m.\u001b[39mget_intraday_pnl_df()\n\u001b[0;32m      6\u001b[0m pnl\n",
      "\u001b[1;31mTypeError\u001b[0m: KytheraKdx.__init__() got an unexpected keyword argument 'x_api_key'"
     ]
    }
   ],
   "source": [
    "from kythera_kdx import KytheraKdx\n",
    "\n",
    "kdx = KytheraKdx(x_api_key=\"ZEAU-SDSH-R93B\")\n",
    "\n",
    "pnl = kdx.pnl.get_intraday_pnl_df()\n",
    "pnl"
   ]
  },
  {
   "cell_type": "markdown",
   "id": "0e35b811",
   "metadata": {},
   "source": []
  }
 ],
 "metadata": {
  "kernelspec": {
   "display_name": "Python 3",
   "language": "python",
   "name": "python3"
  },
  "language_info": {
   "codemirror_mode": {
    "name": "ipython",
    "version": 3
   },
   "file_extension": ".py",
   "mimetype": "text/x-python",
   "name": "python",
   "nbconvert_exporter": "python",
   "pygments_lexer": "ipython3",
   "version": "3.11.6"
  }
 },
 "nbformat": 4,
 "nbformat_minor": 5
}
