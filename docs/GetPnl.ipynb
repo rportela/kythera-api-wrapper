{
 "cells": [
  {
   "cell_type": "markdown",
   "id": "7b8c594f",
   "metadata": {},
   "source": [
    "# Getting the pnl using kdx\n",
    "\n",
    "In this example we will instantiate kdx and get pnl from it."
   ]
  },
  {
   "cell_type": "code",
   "execution_count": null,
   "id": "008e965c",
   "metadata": {},
   "outputs": [],
   "source": [
    "from kythera_kdx import KytheraKdx\n",
    "\n",
    "kdx = KytheraKdx()\n",
    "\n",
    "pnl = kdx.pnl.get_intraday_pnl_df()\n",
    "pnl"
   ]
  },
  {
   "cell_type": "markdown",
   "id": "0e35b811",
   "metadata": {},
   "source": []
  }
 ],
 "metadata": {
  "kernelspec": {
   "display_name": ".venv",
   "language": "python",
   "name": "python3"
  },
  "language_info": {
   "codemirror_mode": {
    "name": "ipython",
    "version": 3
   },
   "file_extension": ".py",
   "mimetype": "text/x-python",
   "name": "python",
   "nbconvert_exporter": "python",
   "pygments_lexer": "ipython3",
   "version": "3.12.9"
  }
 },
 "nbformat": 4,
 "nbformat_minor": 5
}
