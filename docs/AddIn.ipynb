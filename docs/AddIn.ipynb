{
 "cells": [
  {
   "cell_type": "markdown",
   "id": "6536dbaa",
   "metadata": {},
   "source": [
    "# AddIn"
   ]
  },
  {
   "cell_type": "code",
   "execution_count": null,
   "id": "95f714d8",
   "metadata": {},
   "outputs": [],
   "source": [
    "from src.kythera_kdx import KytheraKdx\n",
    "\n",
    "kdx = KytheraKdx()"
   ]
  }
 ],
 "metadata": {
  "kernelspec": {
   "display_name": ".venv",
   "language": "python",
   "name": "python3"
  },
  "language_info": {
   "name": "python",
   "version": "3.13.0"
  }
 },
 "nbformat": 4,
 "nbformat_minor": 5
}
