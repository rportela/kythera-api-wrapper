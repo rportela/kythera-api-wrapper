{
 "cells": [
  {
   "cell_type": "markdown",
   "id": "6536dbaa",
   "metadata": {},
   "source": [
    "# AddIn"
   ]
  },
  {
   "cell_type": "code",
   "execution_count": 1,
   "id": "95f714d8",
   "metadata": {},
   "outputs": [],
   "source": [
    "from kythera_kdx import KytheraKdx\n",
    "\n",
    "kdx = KytheraKdx()"
   ]
  },
  {
   "cell_type": "code",
   "execution_count": 2,
   "id": "ed9c5a1b",
   "metadata": {},
   "outputs": [
    {
     "data": {
      "text/plain": [
       "''"
      ]
     },
     "execution_count": 2,
     "metadata": {},
     "output_type": "execute_result"
    }
   ],
   "source": [
    "version = kdx.addin.get_add_in_version()\n",
    "version"
   ]
  },
  {
   "cell_type": "code",
   "execution_count": 3,
   "id": "693fcd78",
   "metadata": {},
   "outputs": [
    {
     "data": {
      "text/plain": [
       "<generator object Response.iter_bytes at 0x000001523D963E00>"
      ]
     },
     "execution_count": 3,
     "metadata": {},
     "output_type": "execute_result"
    }
   ],
   "source": [
    "kdx.addin.get_add_in()"
   ]
  },
  {
   "cell_type": "code",
   "execution_count": 4,
   "id": "12ff728a",
   "metadata": {},
   "outputs": [
    {
     "data": {
      "text/plain": [
       "<generator object Response.iter_bytes at 0x000001523DBE4040>"
      ]
     },
     "execution_count": 4,
     "metadata": {},
     "output_type": "execute_result"
    }
   ],
   "source": [
    "kdx.addin.get_add_in_core(version)"
   ]
  }
 ],
 "metadata": {
  "kernelspec": {
   "display_name": "Python 3",
   "language": "python",
   "name": "python3"
  },
  "language_info": {
   "codemirror_mode": {
    "name": "ipython",
    "version": 3
   },
   "file_extension": ".py",
   "mimetype": "text/x-python",
   "name": "python",
   "nbconvert_exporter": "python",
   "pygments_lexer": "ipython3",
   "version": "3.11.6"
  }
 },
 "nbformat": 4,
 "nbformat_minor": 5
}
