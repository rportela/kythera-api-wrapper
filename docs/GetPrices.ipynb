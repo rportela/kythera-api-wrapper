{
 "cells": [
  {
   "cell_type": "code",
   "execution_count": 9,
   "id": "ddf304b5",
   "metadata": {},
   "outputs": [
    {
     "ename": "TypeError",
     "evalue": "KytheraKdx.__init__() got an unexpected keyword argument 'x_api_key'",
     "output_type": "error",
     "traceback": [
      "\u001b[1;31m---------------------------------------------------------------------------\u001b[0m",
      "\u001b[1;31mTypeError\u001b[0m                                 Traceback (most recent call last)",
      "Cell \u001b[1;32mIn[9], line 4\u001b[0m\n\u001b[0;32m      1\u001b[0m \u001b[38;5;28;01mfrom\u001b[39;00m\u001b[38;5;250m \u001b[39m\u001b[38;5;21;01mdatetime\u001b[39;00m\u001b[38;5;250m \u001b[39m\u001b[38;5;28;01mimport\u001b[39;00m date\n\u001b[0;32m      2\u001b[0m \u001b[38;5;28;01mfrom\u001b[39;00m\u001b[38;5;250m \u001b[39m\u001b[38;5;21;01mkythera_kdx\u001b[39;00m\u001b[38;5;250m \u001b[39m\u001b[38;5;28;01mimport\u001b[39;00m KytheraKdx\n\u001b[1;32m----> 4\u001b[0m kdx \u001b[38;5;241m=\u001b[39m \u001b[43mKytheraKdx\u001b[49m\u001b[43m(\u001b[49m\u001b[43mx_api_key\u001b[49m\u001b[38;5;241;43m=\u001b[39;49m\u001b[38;5;124;43m'\u001b[39;49m\u001b[38;5;124;43mZEAU-SDSH-R93B\u001b[39;49m\u001b[38;5;124;43m'\u001b[39;49m\u001b[43m)\u001b[49m\n\u001b[0;32m      5\u001b[0m prices \u001b[38;5;241m=\u001b[39m kdx\u001b[38;5;241m.\u001b[39mprices\u001b[38;5;241m.\u001b[39mget_all_prices_df(date(\u001b[38;5;241m2025\u001b[39m, \u001b[38;5;241m6\u001b[39m, \u001b[38;5;241m27\u001b[39m), \u001b[38;5;124m'\u001b[39m\u001b[38;5;124mclose\u001b[39m\u001b[38;5;124m'\u001b[39m)\n\u001b[0;32m      6\u001b[0m prices\n",
      "\u001b[1;31mTypeError\u001b[0m: KytheraKdx.__init__() got an unexpected keyword argument 'x_api_key'"
     ]
    }
   ],
   "source": [
    "from datetime import date\n",
    "from kythera_kdx import KytheraKdx\n",
    "\n",
    "kdx = KytheraKdx(x_api_key='ZEAU-SDSH-R93B')\n",
    "prices = kdx.prices.get_all_prices_df(date(2025, 6, 27), 'close')\n",
    "prices"
   ]
  }
 ],
 "metadata": {
  "kernelspec": {
   "display_name": "Python 3",
   "language": "python",
   "name": "python3"
  },
  "language_info": {
   "codemirror_mode": {
    "name": "ipython",
    "version": 3
   },
   "file_extension": ".py",
   "mimetype": "text/x-python",
   "name": "python",
   "nbconvert_exporter": "python",
   "pygments_lexer": "ipython3",
   "version": "3.11.6"
  }
 },
 "nbformat": 4,
 "nbformat_minor": 5
}
